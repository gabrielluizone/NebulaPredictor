{
 "cells": [
  {
   "cell_type": "markdown",
   "metadata": {},
   "source": [
    "### **Análise & União de Dados**\n",
    "> Start: **03-12-24**\n",
    "\n",
    "```Python\n",
    "- CPSP :: 58500 Registros\n",
    "- PALM :: 54686 Registros\n",
    "- PRAT :: 115480 Registros\n",
    "```"
   ]
  },
  {
   "cell_type": "code",
   "execution_count": 9,
   "metadata": {},
   "outputs": [],
   "source": [
    "import os\n",
    "import pandas as pd\n",
    "import numpy as np\n",
    "import seaborn as sns\n",
    "import matplotlib.pyplot as plt\n",
    "import meteostat\n",
    "\n",
    "plt.style.use('bmh')"
   ]
  },
  {
   "cell_type": "code",
   "execution_count": 10,
   "metadata": {},
   "outputs": [
    {
     "name": "stdout",
     "output_type": "stream",
     "text": [
      "CPSP (58500, 8)\n",
      "PALM (54686, 8)\n",
      "PRAT (115480, 8)\n"
     ]
    },
    {
     "data": {
      "text/plain": [
       "(Timestamp('2024-01-01 00:00:00'), Timestamp('2024-10-09 05:00:00'))"
      ]
     },
     "execution_count": 10,
     "metadata": {},
     "output_type": "execute_result"
    }
   ],
   "source": [
    "csv_files = [f for f in os.listdir('data') if f.endswith('.csv')]\n",
    "dfs = {}\n",
    "\n",
    "for csv_file in csv_files:\n",
    "    dfs[csv_file.split()[1]] = pd.read_csv(os.path.join('data', csv_file))\n",
    "\n",
    "maxl, minl = list(), list()\n",
    "\n",
    "for key in dfs.keys():\n",
    "    dfs[key]['DateTime'] = pd.to_datetime(dfs[key]['DateTime'])\n",
    "    print(key, dfs[key].shape)\n",
    "    maxl.append(dfs[key]['DateTime'].max())\n",
    "    minl.append(dfs[key]['DateTime'].min())\n",
    "\n",
    "minl, maxl = min(minl), max(maxl)\n",
    "minl, maxl"
   ]
  },
  {
   "cell_type": "code",
   "execution_count": 20,
   "metadata": {},
   "outputs": [],
   "source": [
    "df = dfs['PRAT'][['DateTime']].copy()\n",
    "\n",
    "for key in dfs.keys():\n",
    "    df = df.merge(dfs[key][['DateTime', 'Visibilidade_m']], on='DateTime', how='outer', suffixes=('', f'_{key}'))\n",
    "    df = df.rename(columns={'Visibilidade_m': f'VM_{key}'})"
   ]
  },
  {
   "cell_type": "code",
   "execution_count": 23,
   "metadata": {},
   "outputs": [],
   "source": [
    "df.to_excel(r'data\\AllVisibil 01-10 (2024).xlsx', index=False, engine='openpyxl')\n",
    "df.to_csv(r'data\\AllVisibil_01-10_2024.csv', index=False)"
   ]
  },
  {
   "cell_type": "code",
   "execution_count": 24,
   "metadata": {},
   "outputs": [
    {
     "data": {
      "text/html": [
       "<div>\n",
       "<style scoped>\n",
       "    .dataframe tbody tr th:only-of-type {\n",
       "        vertical-align: middle;\n",
       "    }\n",
       "\n",
       "    .dataframe tbody tr th {\n",
       "        vertical-align: top;\n",
       "    }\n",
       "\n",
       "    .dataframe thead th {\n",
       "        text-align: right;\n",
       "    }\n",
       "</style>\n",
       "<table border=\"1\" class=\"dataframe\">\n",
       "  <thead>\n",
       "    <tr style=\"text-align: right;\">\n",
       "      <th></th>\n",
       "      <th>DateTime</th>\n",
       "      <th>VM_CPSP</th>\n",
       "      <th>VM_PALM</th>\n",
       "      <th>VM_PRAT</th>\n",
       "    </tr>\n",
       "  </thead>\n",
       "  <tbody>\n",
       "    <tr>\n",
       "      <th>0</th>\n",
       "      <td>2024-01-01 00:00:00</td>\n",
       "      <td>1998.93</td>\n",
       "      <td>NaN</td>\n",
       "      <td>2000.0</td>\n",
       "    </tr>\n",
       "    <tr>\n",
       "      <th>1</th>\n",
       "      <td>2024-01-01 00:00:30</td>\n",
       "      <td>1998.93</td>\n",
       "      <td>NaN</td>\n",
       "      <td>NaN</td>\n",
       "    </tr>\n",
       "    <tr>\n",
       "      <th>2</th>\n",
       "      <td>2024-01-01 00:01:00</td>\n",
       "      <td>1998.87</td>\n",
       "      <td>NaN</td>\n",
       "      <td>2000.0</td>\n",
       "    </tr>\n",
       "    <tr>\n",
       "      <th>3</th>\n",
       "      <td>2024-01-01 00:01:30</td>\n",
       "      <td>1998.93</td>\n",
       "      <td>NaN</td>\n",
       "      <td>NaN</td>\n",
       "    </tr>\n",
       "    <tr>\n",
       "      <th>4</th>\n",
       "      <td>2024-01-01 00:02:00</td>\n",
       "      <td>1998.90</td>\n",
       "      <td>NaN</td>\n",
       "      <td>2000.0</td>\n",
       "    </tr>\n",
       "    <tr>\n",
       "      <th>...</th>\n",
       "      <td>...</td>\n",
       "      <td>...</td>\n",
       "      <td>...</td>\n",
       "      <td>...</td>\n",
       "    </tr>\n",
       "    <tr>\n",
       "      <th>159468</th>\n",
       "      <td>2024-10-09 04:56:00</td>\n",
       "      <td>NaN</td>\n",
       "      <td>NaN</td>\n",
       "      <td>2000.0</td>\n",
       "    </tr>\n",
       "    <tr>\n",
       "      <th>159469</th>\n",
       "      <td>2024-10-09 04:57:00</td>\n",
       "      <td>NaN</td>\n",
       "      <td>NaN</td>\n",
       "      <td>2000.0</td>\n",
       "    </tr>\n",
       "    <tr>\n",
       "      <th>159470</th>\n",
       "      <td>2024-10-09 04:58:00</td>\n",
       "      <td>NaN</td>\n",
       "      <td>NaN</td>\n",
       "      <td>2000.0</td>\n",
       "    </tr>\n",
       "    <tr>\n",
       "      <th>159471</th>\n",
       "      <td>2024-10-09 04:59:00</td>\n",
       "      <td>NaN</td>\n",
       "      <td>NaN</td>\n",
       "      <td>2000.0</td>\n",
       "    </tr>\n",
       "    <tr>\n",
       "      <th>159472</th>\n",
       "      <td>2024-10-09 05:00:00</td>\n",
       "      <td>NaN</td>\n",
       "      <td>NaN</td>\n",
       "      <td>2000.0</td>\n",
       "    </tr>\n",
       "  </tbody>\n",
       "</table>\n",
       "<p>159473 rows × 4 columns</p>\n",
       "</div>"
      ],
      "text/plain": [
       "                  DateTime  VM_CPSP  VM_PALM  VM_PRAT\n",
       "0      2024-01-01 00:00:00  1998.93      NaN   2000.0\n",
       "1      2024-01-01 00:00:30  1998.93      NaN      NaN\n",
       "2      2024-01-01 00:01:00  1998.87      NaN   2000.0\n",
       "3      2024-01-01 00:01:30  1998.93      NaN      NaN\n",
       "4      2024-01-01 00:02:00  1998.90      NaN   2000.0\n",
       "...                    ...      ...      ...      ...\n",
       "159468 2024-10-09 04:56:00      NaN      NaN   2000.0\n",
       "159469 2024-10-09 04:57:00      NaN      NaN   2000.0\n",
       "159470 2024-10-09 04:58:00      NaN      NaN   2000.0\n",
       "159471 2024-10-09 04:59:00      NaN      NaN   2000.0\n",
       "159472 2024-10-09 05:00:00      NaN      NaN   2000.0\n",
       "\n",
       "[159473 rows x 4 columns]"
      ]
     },
     "execution_count": 24,
     "metadata": {},
     "output_type": "execute_result"
    }
   ],
   "source": [
    "df"
   ]
  }
 ],
 "metadata": {
  "kernelspec": {
   "display_name": "Python 3",
   "language": "python",
   "name": "python3"
  },
  "language_info": {
   "codemirror_mode": {
    "name": "ipython",
    "version": 3
   },
   "file_extension": ".py",
   "mimetype": "text/x-python",
   "name": "python",
   "nbconvert_exporter": "python",
   "pygments_lexer": "ipython3",
   "version": "3.12.7"
  }
 },
 "nbformat": 4,
 "nbformat_minor": 2
}
